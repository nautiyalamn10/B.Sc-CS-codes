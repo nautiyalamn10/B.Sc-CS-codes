{
  "nbformat": 4,
  "nbformat_minor": 0,
  "metadata": {
    "colab": {
      "name": "DmPrac3.ipynb",
      "provenance": []
    },
    "kernelspec": {
      "name": "python3",
      "display_name": "Python 3"
    },
    "language_info": {
      "name": "python"
    }
  },
  "cells": [
    {
      "cell_type": "markdown",
      "source": [
        "Q3. Load the data from wine dataset. Check whether all attributes are standardized or not (mean\n",
        "is 0 and standard deviation is 1). If not, standardize the attributes. Do the same with Iris dataset."
      ],
      "metadata": {
        "id": "LUa5Eltu0Y0t"
      }
    },
    {
      "cell_type": "code",
      "source": [
        "import numpy as np\n",
        "import pandas as pd\n",
        "from sklearn import datasets"
      ],
      "metadata": {
        "id": "-dDj4v2e0ah1"
      },
      "execution_count": 1,
      "outputs": []
    },
    {
      "cell_type": "code",
      "source": [
        "data=datasets.load_wine()\n",
        "df=pd.DataFrame(data.data,columns=data.feature_names)\n",
        "df['output']=data.target\n",
        "df\n",
        "df2=df"
      ],
      "metadata": {
        "id": "lj1z1QZn0hJR"
      },
      "execution_count": 2,
      "outputs": []
    },
    {
      "cell_type": "code",
      "source": [
        "#checking mean of all attributes\n",
        "df.mean(axis=0)"
      ],
      "metadata": {
        "colab": {
          "base_uri": "https://localhost:8080/"
        },
        "id": "n3NP-O151yeJ",
        "outputId": "7f405eb0-0197-4e36-9d34-6218e36b85e5"
      },
      "execution_count": 3,
      "outputs": [
        {
          "output_type": "execute_result",
          "data": {
            "text/plain": [
              "alcohol                          13.000618\n",
              "malic_acid                        2.336348\n",
              "ash                               2.366517\n",
              "alcalinity_of_ash                19.494944\n",
              "magnesium                        99.741573\n",
              "total_phenols                     2.295112\n",
              "flavanoids                        2.029270\n",
              "nonflavanoid_phenols              0.361854\n",
              "proanthocyanins                   1.590899\n",
              "color_intensity                   5.058090\n",
              "hue                               0.957449\n",
              "od280/od315_of_diluted_wines      2.611685\n",
              "proline                         746.893258\n",
              "output                            0.938202\n",
              "dtype: float64"
            ]
          },
          "metadata": {},
          "execution_count": 3
        }
      ]
    },
    {
      "cell_type": "code",
      "source": [
        "#checking standard deviation of all attributes\n",
        "df.std(axis=0)"
      ],
      "metadata": {
        "colab": {
          "base_uri": "https://localhost:8080/"
        },
        "id": "qeTundNE14fW",
        "outputId": "aa45759c-8f39-4753-ef21-8bdcd587c3dc"
      },
      "execution_count": 4,
      "outputs": [
        {
          "output_type": "execute_result",
          "data": {
            "text/plain": [
              "alcohol                           0.811827\n",
              "malic_acid                        1.117146\n",
              "ash                               0.274344\n",
              "alcalinity_of_ash                 3.339564\n",
              "magnesium                        14.282484\n",
              "total_phenols                     0.625851\n",
              "flavanoids                        0.998859\n",
              "nonflavanoid_phenols              0.124453\n",
              "proanthocyanins                   0.572359\n",
              "color_intensity                   2.318286\n",
              "hue                               0.228572\n",
              "od280/od315_of_diluted_wines      0.709990\n",
              "proline                         314.907474\n",
              "output                            0.775035\n",
              "dtype: float64"
            ]
          },
          "metadata": {},
          "execution_count": 4
        }
      ]
    },
    {
      "cell_type": "code",
      "source": [
        "# standardizing with the help of StandardScaler\n",
        "from sklearn.preprocessing import StandardScaler\n"
      ],
      "metadata": {
        "id": "V_Gzu0CZ1-rj"
      },
      "execution_count": 5,
      "outputs": []
    },
    {
      "cell_type": "code",
      "source": [
        "scaler=StandardScaler()"
      ],
      "metadata": {
        "id": "Dk5GOmzO2FJ4"
      },
      "execution_count": 6,
      "outputs": []
    },
    {
      "cell_type": "code",
      "source": [
        "df=scaler.fit_transform(df)\n",
        "df"
      ],
      "metadata": {
        "colab": {
          "base_uri": "https://localhost:8080/"
        },
        "id": "o_b5vk6B2Igr",
        "outputId": "474e52c2-0792-4f4d-aa4a-d2f84ef46588"
      },
      "execution_count": 7,
      "outputs": [
        {
          "output_type": "execute_result",
          "data": {
            "text/plain": [
              "array([[ 1.51861254, -0.5622498 ,  0.23205254, ...,  1.84791957,\n",
              "         1.01300893, -1.21394365],\n",
              "       [ 0.24628963, -0.49941338, -0.82799632, ...,  1.1134493 ,\n",
              "         0.96524152, -1.21394365],\n",
              "       [ 0.19687903,  0.02123125,  1.10933436, ...,  0.78858745,\n",
              "         1.39514818, -1.21394365],\n",
              "       ...,\n",
              "       [ 0.33275817,  1.74474449, -0.38935541, ..., -1.48544548,\n",
              "         0.28057537,  1.37386437],\n",
              "       [ 0.20923168,  0.22769377,  0.01273209, ..., -1.40069891,\n",
              "         0.29649784,  1.37386437],\n",
              "       [ 1.39508604,  1.58316512,  1.36520822, ..., -1.42894777,\n",
              "        -0.59516041,  1.37386437]])"
            ]
          },
          "metadata": {},
          "execution_count": 7
        }
      ]
    },
    {
      "cell_type": "code",
      "source": [
        "scaler.mean_"
      ],
      "metadata": {
        "colab": {
          "base_uri": "https://localhost:8080/"
        },
        "id": "5YxZ6YV32eWS",
        "outputId": "6314f9e3-35bb-463a-8a9e-9af39108820c"
      },
      "execution_count": 8,
      "outputs": [
        {
          "output_type": "execute_result",
          "data": {
            "text/plain": [
              "array([1.30006180e+01, 2.33634831e+00, 2.36651685e+00, 1.94949438e+01,\n",
              "       9.97415730e+01, 2.29511236e+00, 2.02926966e+00, 3.61853933e-01,\n",
              "       1.59089888e+00, 5.05808988e+00, 9.57449438e-01, 2.61168539e+00,\n",
              "       7.46893258e+02, 9.38202247e-01])"
            ]
          },
          "metadata": {},
          "execution_count": 8
        }
      ]
    },
    {
      "cell_type": "code",
      "source": [
        "df.mean(axis=0)"
      ],
      "metadata": {
        "colab": {
          "base_uri": "https://localhost:8080/"
        },
        "id": "X7_vxC1r2iLJ",
        "outputId": "dbb07a8f-1b2c-4dac-bd37-0149f6ba8617"
      },
      "execution_count": 9,
      "outputs": [
        {
          "output_type": "execute_result",
          "data": {
            "text/plain": [
              "array([-8.38280756e-16, -1.19754394e-16, -8.37033314e-16, -3.99181312e-17,\n",
              "       -3.99181312e-17,  0.00000000e+00, -3.99181312e-16,  3.59263181e-16,\n",
              "       -1.19754394e-16,  2.49488320e-17,  1.99590656e-16,  3.19345050e-16,\n",
              "       -1.59672525e-16,  1.59672525e-16])"
            ]
          },
          "metadata": {},
          "execution_count": 9
        }
      ]
    },
    {
      "cell_type": "code",
      "source": [
        "df.std(axis=0)"
      ],
      "metadata": {
        "colab": {
          "base_uri": "https://localhost:8080/"
        },
        "id": "wkK9kFpi2m4R",
        "outputId": "bfb20015-8c41-4e2b-f648-d52c5e1454f8"
      },
      "execution_count": 10,
      "outputs": [
        {
          "output_type": "execute_result",
          "data": {
            "text/plain": [
              "array([1., 1., 1., 1., 1., 1., 1., 1., 1., 1., 1., 1., 1., 1.])"
            ]
          },
          "metadata": {},
          "execution_count": 10
        }
      ]
    },
    {
      "cell_type": "markdown",
      "source": [
        "Using mean method"
      ],
      "metadata": {
        "id": "sXnKkyK53JaG"
      }
    },
    {
      "cell_type": "code",
      "source": [
        "normalized_df=(df2-df2.mean())/df2.std()\n",
        "normalized_df"
      ],
      "metadata": {
        "colab": {
          "base_uri": "https://localhost:8080/",
          "height": 488
        },
        "id": "ZDd26iH92okp",
        "outputId": "3cf24dc0-b751-4f19-86a1-bef9453178fc"
      },
      "execution_count": 11,
      "outputs": [
        {
          "output_type": "execute_result",
          "data": {
            "text/plain": [
              "      alcohol  malic_acid       ash  alcalinity_of_ash  magnesium  \\\n",
              "0    1.514341   -0.560668  0.231400          -1.166303   1.908522   \n",
              "1    0.245597   -0.498009 -0.825667          -2.483841   0.018094   \n",
              "2    0.196325    0.021172  1.106214          -0.267982   0.088110   \n",
              "3    1.686791   -0.345835  0.486554          -0.806975   0.928300   \n",
              "4    0.294868    0.227053  1.835226           0.450674   1.278379   \n",
              "..        ...         ...       ...                ...        ...   \n",
              "173  0.873810    2.966176  0.304301           0.300954  -0.331985   \n",
              "174  0.491955    1.408636  0.413653           1.049555   0.158126   \n",
              "175  0.331822    1.739837 -0.388260           0.151234   1.418411   \n",
              "176  0.208643    0.227053  0.012696           0.151234   1.418411   \n",
              "177  1.391162    1.578712  1.361368           1.498716  -0.261969   \n",
              "\n",
              "     total_phenols  flavanoids  nonflavanoid_phenols  proanthocyanins  \\\n",
              "0         0.806722    1.031908             -0.657708         1.221438   \n",
              "1         0.567048    0.731565             -0.818411        -0.543189   \n",
              "2         0.806722    1.212114             -0.497005         2.129959   \n",
              "3         2.484437    1.462399             -0.979113         1.029251   \n",
              "4         0.806722    0.661485              0.226158         0.400275   \n",
              "..             ...         ...                   ...              ...   \n",
              "173      -0.982841   -1.420891              1.270726        -0.927563   \n",
              "174      -0.791103   -1.280731              0.547563        -0.316058   \n",
              "175      -1.126646   -1.340800              0.547563        -0.420888   \n",
              "176      -1.030776   -1.350811              1.351077        -0.228701   \n",
              "177      -0.391646   -1.270720              1.592131        -0.420888   \n",
              "\n",
              "     color_intensity       hue  od280/od315_of_diluted_wines   proline  \\\n",
              "0           0.251009  0.361158                      1.842721  1.010159   \n",
              "1          -0.292496  0.404908                      1.110317  0.962526   \n",
              "2           0.268263  0.317409                      0.786369  1.391224   \n",
              "3           1.182732 -0.426341                      1.180741  2.328007   \n",
              "4          -0.318377  0.361158                      0.448336 -0.037767   \n",
              "..               ...       ...                           ...       ...   \n",
              "173         1.139596 -1.388840                     -1.227742 -0.021890   \n",
              "174         0.967055 -1.126341                     -1.481267  0.009866   \n",
              "175         2.217979 -1.607590                     -1.481267  0.279786   \n",
              "176         1.829761 -1.563840                     -1.396759  0.295664   \n",
              "177         1.786626 -1.520090                     -1.424928 -0.593486   \n",
              "\n",
              "       output  \n",
              "0   -1.210529  \n",
              "1   -1.210529  \n",
              "2   -1.210529  \n",
              "3   -1.210529  \n",
              "4   -1.210529  \n",
              "..        ...  \n",
              "173  1.370000  \n",
              "174  1.370000  \n",
              "175  1.370000  \n",
              "176  1.370000  \n",
              "177  1.370000  \n",
              "\n",
              "[178 rows x 14 columns]"
            ],
            "text/html": [
              "\n",
              "  <div id=\"df-b8f50aed-1b4c-4c9e-81e4-c0d552005f6c\">\n",
              "    <div class=\"colab-df-container\">\n",
              "      <div>\n",
              "<style scoped>\n",
              "    .dataframe tbody tr th:only-of-type {\n",
              "        vertical-align: middle;\n",
              "    }\n",
              "\n",
              "    .dataframe tbody tr th {\n",
              "        vertical-align: top;\n",
              "    }\n",
              "\n",
              "    .dataframe thead th {\n",
              "        text-align: right;\n",
              "    }\n",
              "</style>\n",
              "<table border=\"1\" class=\"dataframe\">\n",
              "  <thead>\n",
              "    <tr style=\"text-align: right;\">\n",
              "      <th></th>\n",
              "      <th>alcohol</th>\n",
              "      <th>malic_acid</th>\n",
              "      <th>ash</th>\n",
              "      <th>alcalinity_of_ash</th>\n",
              "      <th>magnesium</th>\n",
              "      <th>total_phenols</th>\n",
              "      <th>flavanoids</th>\n",
              "      <th>nonflavanoid_phenols</th>\n",
              "      <th>proanthocyanins</th>\n",
              "      <th>color_intensity</th>\n",
              "      <th>hue</th>\n",
              "      <th>od280/od315_of_diluted_wines</th>\n",
              "      <th>proline</th>\n",
              "      <th>output</th>\n",
              "    </tr>\n",
              "  </thead>\n",
              "  <tbody>\n",
              "    <tr>\n",
              "      <th>0</th>\n",
              "      <td>1.514341</td>\n",
              "      <td>-0.560668</td>\n",
              "      <td>0.231400</td>\n",
              "      <td>-1.166303</td>\n",
              "      <td>1.908522</td>\n",
              "      <td>0.806722</td>\n",
              "      <td>1.031908</td>\n",
              "      <td>-0.657708</td>\n",
              "      <td>1.221438</td>\n",
              "      <td>0.251009</td>\n",
              "      <td>0.361158</td>\n",
              "      <td>1.842721</td>\n",
              "      <td>1.010159</td>\n",
              "      <td>-1.210529</td>\n",
              "    </tr>\n",
              "    <tr>\n",
              "      <th>1</th>\n",
              "      <td>0.245597</td>\n",
              "      <td>-0.498009</td>\n",
              "      <td>-0.825667</td>\n",
              "      <td>-2.483841</td>\n",
              "      <td>0.018094</td>\n",
              "      <td>0.567048</td>\n",
              "      <td>0.731565</td>\n",
              "      <td>-0.818411</td>\n",
              "      <td>-0.543189</td>\n",
              "      <td>-0.292496</td>\n",
              "      <td>0.404908</td>\n",
              "      <td>1.110317</td>\n",
              "      <td>0.962526</td>\n",
              "      <td>-1.210529</td>\n",
              "    </tr>\n",
              "    <tr>\n",
              "      <th>2</th>\n",
              "      <td>0.196325</td>\n",
              "      <td>0.021172</td>\n",
              "      <td>1.106214</td>\n",
              "      <td>-0.267982</td>\n",
              "      <td>0.088110</td>\n",
              "      <td>0.806722</td>\n",
              "      <td>1.212114</td>\n",
              "      <td>-0.497005</td>\n",
              "      <td>2.129959</td>\n",
              "      <td>0.268263</td>\n",
              "      <td>0.317409</td>\n",
              "      <td>0.786369</td>\n",
              "      <td>1.391224</td>\n",
              "      <td>-1.210529</td>\n",
              "    </tr>\n",
              "    <tr>\n",
              "      <th>3</th>\n",
              "      <td>1.686791</td>\n",
              "      <td>-0.345835</td>\n",
              "      <td>0.486554</td>\n",
              "      <td>-0.806975</td>\n",
              "      <td>0.928300</td>\n",
              "      <td>2.484437</td>\n",
              "      <td>1.462399</td>\n",
              "      <td>-0.979113</td>\n",
              "      <td>1.029251</td>\n",
              "      <td>1.182732</td>\n",
              "      <td>-0.426341</td>\n",
              "      <td>1.180741</td>\n",
              "      <td>2.328007</td>\n",
              "      <td>-1.210529</td>\n",
              "    </tr>\n",
              "    <tr>\n",
              "      <th>4</th>\n",
              "      <td>0.294868</td>\n",
              "      <td>0.227053</td>\n",
              "      <td>1.835226</td>\n",
              "      <td>0.450674</td>\n",
              "      <td>1.278379</td>\n",
              "      <td>0.806722</td>\n",
              "      <td>0.661485</td>\n",
              "      <td>0.226158</td>\n",
              "      <td>0.400275</td>\n",
              "      <td>-0.318377</td>\n",
              "      <td>0.361158</td>\n",
              "      <td>0.448336</td>\n",
              "      <td>-0.037767</td>\n",
              "      <td>-1.210529</td>\n",
              "    </tr>\n",
              "    <tr>\n",
              "      <th>...</th>\n",
              "      <td>...</td>\n",
              "      <td>...</td>\n",
              "      <td>...</td>\n",
              "      <td>...</td>\n",
              "      <td>...</td>\n",
              "      <td>...</td>\n",
              "      <td>...</td>\n",
              "      <td>...</td>\n",
              "      <td>...</td>\n",
              "      <td>...</td>\n",
              "      <td>...</td>\n",
              "      <td>...</td>\n",
              "      <td>...</td>\n",
              "      <td>...</td>\n",
              "    </tr>\n",
              "    <tr>\n",
              "      <th>173</th>\n",
              "      <td>0.873810</td>\n",
              "      <td>2.966176</td>\n",
              "      <td>0.304301</td>\n",
              "      <td>0.300954</td>\n",
              "      <td>-0.331985</td>\n",
              "      <td>-0.982841</td>\n",
              "      <td>-1.420891</td>\n",
              "      <td>1.270726</td>\n",
              "      <td>-0.927563</td>\n",
              "      <td>1.139596</td>\n",
              "      <td>-1.388840</td>\n",
              "      <td>-1.227742</td>\n",
              "      <td>-0.021890</td>\n",
              "      <td>1.370000</td>\n",
              "    </tr>\n",
              "    <tr>\n",
              "      <th>174</th>\n",
              "      <td>0.491955</td>\n",
              "      <td>1.408636</td>\n",
              "      <td>0.413653</td>\n",
              "      <td>1.049555</td>\n",
              "      <td>0.158126</td>\n",
              "      <td>-0.791103</td>\n",
              "      <td>-1.280731</td>\n",
              "      <td>0.547563</td>\n",
              "      <td>-0.316058</td>\n",
              "      <td>0.967055</td>\n",
              "      <td>-1.126341</td>\n",
              "      <td>-1.481267</td>\n",
              "      <td>0.009866</td>\n",
              "      <td>1.370000</td>\n",
              "    </tr>\n",
              "    <tr>\n",
              "      <th>175</th>\n",
              "      <td>0.331822</td>\n",
              "      <td>1.739837</td>\n",
              "      <td>-0.388260</td>\n",
              "      <td>0.151234</td>\n",
              "      <td>1.418411</td>\n",
              "      <td>-1.126646</td>\n",
              "      <td>-1.340800</td>\n",
              "      <td>0.547563</td>\n",
              "      <td>-0.420888</td>\n",
              "      <td>2.217979</td>\n",
              "      <td>-1.607590</td>\n",
              "      <td>-1.481267</td>\n",
              "      <td>0.279786</td>\n",
              "      <td>1.370000</td>\n",
              "    </tr>\n",
              "    <tr>\n",
              "      <th>176</th>\n",
              "      <td>0.208643</td>\n",
              "      <td>0.227053</td>\n",
              "      <td>0.012696</td>\n",
              "      <td>0.151234</td>\n",
              "      <td>1.418411</td>\n",
              "      <td>-1.030776</td>\n",
              "      <td>-1.350811</td>\n",
              "      <td>1.351077</td>\n",
              "      <td>-0.228701</td>\n",
              "      <td>1.829761</td>\n",
              "      <td>-1.563840</td>\n",
              "      <td>-1.396759</td>\n",
              "      <td>0.295664</td>\n",
              "      <td>1.370000</td>\n",
              "    </tr>\n",
              "    <tr>\n",
              "      <th>177</th>\n",
              "      <td>1.391162</td>\n",
              "      <td>1.578712</td>\n",
              "      <td>1.361368</td>\n",
              "      <td>1.498716</td>\n",
              "      <td>-0.261969</td>\n",
              "      <td>-0.391646</td>\n",
              "      <td>-1.270720</td>\n",
              "      <td>1.592131</td>\n",
              "      <td>-0.420888</td>\n",
              "      <td>1.786626</td>\n",
              "      <td>-1.520090</td>\n",
              "      <td>-1.424928</td>\n",
              "      <td>-0.593486</td>\n",
              "      <td>1.370000</td>\n",
              "    </tr>\n",
              "  </tbody>\n",
              "</table>\n",
              "<p>178 rows × 14 columns</p>\n",
              "</div>\n",
              "      <button class=\"colab-df-convert\" onclick=\"convertToInteractive('df-b8f50aed-1b4c-4c9e-81e4-c0d552005f6c')\"\n",
              "              title=\"Convert this dataframe to an interactive table.\"\n",
              "              style=\"display:none;\">\n",
              "        \n",
              "  <svg xmlns=\"http://www.w3.org/2000/svg\" height=\"24px\"viewBox=\"0 0 24 24\"\n",
              "       width=\"24px\">\n",
              "    <path d=\"M0 0h24v24H0V0z\" fill=\"none\"/>\n",
              "    <path d=\"M18.56 5.44l.94 2.06.94-2.06 2.06-.94-2.06-.94-.94-2.06-.94 2.06-2.06.94zm-11 1L8.5 8.5l.94-2.06 2.06-.94-2.06-.94L8.5 2.5l-.94 2.06-2.06.94zm10 10l.94 2.06.94-2.06 2.06-.94-2.06-.94-.94-2.06-.94 2.06-2.06.94z\"/><path d=\"M17.41 7.96l-1.37-1.37c-.4-.4-.92-.59-1.43-.59-.52 0-1.04.2-1.43.59L10.3 9.45l-7.72 7.72c-.78.78-.78 2.05 0 2.83L4 21.41c.39.39.9.59 1.41.59.51 0 1.02-.2 1.41-.59l7.78-7.78 2.81-2.81c.8-.78.8-2.07 0-2.86zM5.41 20L4 18.59l7.72-7.72 1.47 1.35L5.41 20z\"/>\n",
              "  </svg>\n",
              "      </button>\n",
              "      \n",
              "  <style>\n",
              "    .colab-df-container {\n",
              "      display:flex;\n",
              "      flex-wrap:wrap;\n",
              "      gap: 12px;\n",
              "    }\n",
              "\n",
              "    .colab-df-convert {\n",
              "      background-color: #E8F0FE;\n",
              "      border: none;\n",
              "      border-radius: 50%;\n",
              "      cursor: pointer;\n",
              "      display: none;\n",
              "      fill: #1967D2;\n",
              "      height: 32px;\n",
              "      padding: 0 0 0 0;\n",
              "      width: 32px;\n",
              "    }\n",
              "\n",
              "    .colab-df-convert:hover {\n",
              "      background-color: #E2EBFA;\n",
              "      box-shadow: 0px 1px 2px rgba(60, 64, 67, 0.3), 0px 1px 3px 1px rgba(60, 64, 67, 0.15);\n",
              "      fill: #174EA6;\n",
              "    }\n",
              "\n",
              "    [theme=dark] .colab-df-convert {\n",
              "      background-color: #3B4455;\n",
              "      fill: #D2E3FC;\n",
              "    }\n",
              "\n",
              "    [theme=dark] .colab-df-convert:hover {\n",
              "      background-color: #434B5C;\n",
              "      box-shadow: 0px 1px 3px 1px rgba(0, 0, 0, 0.15);\n",
              "      filter: drop-shadow(0px 1px 2px rgba(0, 0, 0, 0.3));\n",
              "      fill: #FFFFFF;\n",
              "    }\n",
              "  </style>\n",
              "\n",
              "      <script>\n",
              "        const buttonEl =\n",
              "          document.querySelector('#df-b8f50aed-1b4c-4c9e-81e4-c0d552005f6c button.colab-df-convert');\n",
              "        buttonEl.style.display =\n",
              "          google.colab.kernel.accessAllowed ? 'block' : 'none';\n",
              "\n",
              "        async function convertToInteractive(key) {\n",
              "          const element = document.querySelector('#df-b8f50aed-1b4c-4c9e-81e4-c0d552005f6c');\n",
              "          const dataTable =\n",
              "            await google.colab.kernel.invokeFunction('convertToInteractive',\n",
              "                                                     [key], {});\n",
              "          if (!dataTable) return;\n",
              "\n",
              "          const docLinkHtml = 'Like what you see? Visit the ' +\n",
              "            '<a target=\"_blank\" href=https://colab.research.google.com/notebooks/data_table.ipynb>data table notebook</a>'\n",
              "            + ' to learn more about interactive tables.';\n",
              "          element.innerHTML = '';\n",
              "          dataTable['output_type'] = 'display_data';\n",
              "          await google.colab.output.renderOutput(dataTable, element);\n",
              "          const docLink = document.createElement('div');\n",
              "          docLink.innerHTML = docLinkHtml;\n",
              "          element.appendChild(docLink);\n",
              "        }\n",
              "      </script>\n",
              "    </div>\n",
              "  </div>\n",
              "  "
            ]
          },
          "metadata": {},
          "execution_count": 11
        }
      ]
    },
    {
      "cell_type": "code",
      "source": [
        "normalized_df.std(axis=0)"
      ],
      "metadata": {
        "colab": {
          "base_uri": "https://localhost:8080/"
        },
        "id": "RRT8xZqL3Azh",
        "outputId": "b02a45f0-48cd-4fa3-8949-24b9c121ddda"
      },
      "execution_count": 12,
      "outputs": [
        {
          "output_type": "execute_result",
          "data": {
            "text/plain": [
              "alcohol                         1.0\n",
              "malic_acid                      1.0\n",
              "ash                             1.0\n",
              "alcalinity_of_ash               1.0\n",
              "magnesium                       1.0\n",
              "total_phenols                   1.0\n",
              "flavanoids                      1.0\n",
              "nonflavanoid_phenols            1.0\n",
              "proanthocyanins                 1.0\n",
              "color_intensity                 1.0\n",
              "hue                             1.0\n",
              "od280/od315_of_diluted_wines    1.0\n",
              "proline                         1.0\n",
              "output                          1.0\n",
              "dtype: float64"
            ]
          },
          "metadata": {},
          "execution_count": 12
        }
      ]
    },
    {
      "cell_type": "markdown",
      "source": [
        "IRIS Dataset"
      ],
      "metadata": {
        "id": "o6aNaC223-s3"
      }
    },
    {
      "cell_type": "code",
      "source": [
        "from sklearn import datasets\n",
        "data=datasets.load_iris()\n",
        "df=pd.DataFrame(data.data,columns=data.feature_names)\n",
        "df['output']=data.target\n",
        "df2=df"
      ],
      "metadata": {
        "id": "B8U1ua9Q4A0L"
      },
      "execution_count": 13,
      "outputs": []
    },
    {
      "cell_type": "code",
      "source": [
        "df=scaler.fit_transform(df)"
      ],
      "metadata": {
        "id": "b4UhaS2U4hY1"
      },
      "execution_count": 14,
      "outputs": []
    },
    {
      "cell_type": "code",
      "source": [
        "df.std(axis=0)"
      ],
      "metadata": {
        "colab": {
          "base_uri": "https://localhost:8080/"
        },
        "id": "r5ks8R_I4xWn",
        "outputId": "44892a3c-72e8-4b8c-c781-4d6f612f90d0"
      },
      "execution_count": 15,
      "outputs": [
        {
          "output_type": "execute_result",
          "data": {
            "text/plain": [
              "array([1., 1., 1., 1., 1.])"
            ]
          },
          "metadata": {},
          "execution_count": 15
        }
      ]
    },
    {
      "cell_type": "code",
      "source": [
        "#mean method\n",
        "normalized_data=(df-df.mean())/df.std()"
      ],
      "metadata": {
        "id": "wy6h56JN4zTv"
      },
      "execution_count": 16,
      "outputs": []
    },
    {
      "cell_type": "code",
      "source": [
        "normalized_data.std(axis=0)"
      ],
      "metadata": {
        "colab": {
          "base_uri": "https://localhost:8080/"
        },
        "id": "EK_Q995_49A0",
        "outputId": "88fc8be4-2c18-4d19-cab6-a7055547ca92"
      },
      "execution_count": 17,
      "outputs": [
        {
          "output_type": "execute_result",
          "data": {
            "text/plain": [
              "array([1., 1., 1., 1., 1.])"
            ]
          },
          "metadata": {},
          "execution_count": 17
        }
      ]
    },
    {
      "cell_type": "code",
      "source": [
        ""
      ],
      "metadata": {
        "id": "bR0EijhW4_2J"
      },
      "execution_count": 17,
      "outputs": []
    }
  ]
}